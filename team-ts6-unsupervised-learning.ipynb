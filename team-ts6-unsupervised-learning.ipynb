{
 "cells": [
  {
   "cell_type": "markdown",
   "id": "presidential-paraguay",
   "metadata": {
    "papermill": {
     "duration": 0.02389,
     "end_time": "2021-07-03T18:58:50.666001",
     "exception": false,
     "start_time": "2021-07-03T18:58:50.642111",
     "status": "completed"
    },
    "tags": []
   },
   "source": [
    "# Introduction\n",
    "\n",
    "The followig aims to train a movie recommendation system which will accurately predict a person's rating of an unseen  movie based on their historic choices."
   ]
  },
  {
   "cell_type": "markdown",
   "id": "neither-upgrade",
   "metadata": {
    "papermill": {
     "duration": 0.021524,
     "end_time": "2021-07-03T18:58:50.709378",
     "exception": false,
     "start_time": "2021-07-03T18:58:50.687854",
     "status": "completed"
    },
    "tags": []
   },
   "source": [
    "## Importing packages"
   ]
  },
  {
   "cell_type": "code",
   "execution_count": 1,
   "id": "sufficient-draft",
   "metadata": {
    "execution": {
     "iopub.execute_input": "2021-07-03T18:58:50.758178Z",
     "iopub.status.busy": "2021-07-03T18:58:50.756621Z",
     "iopub.status.idle": "2021-07-03T18:58:51.807408Z",
     "shell.execute_reply": "2021-07-03T18:58:51.807922Z",
     "shell.execute_reply.started": "2021-07-03T18:03:12.175200Z"
    },
    "papermill": {
     "duration": 1.077151,
     "end_time": "2021-07-03T18:58:51.808191",
     "exception": false,
     "start_time": "2021-07-03T18:58:50.731040",
     "status": "completed"
    },
    "tags": []
   },
   "outputs": [
    {
     "name": "stdout",
     "output_type": "stream",
     "text": [
      "/kaggle/input/edsa-movie-recommendation-challenge/sample_submission.csv\n",
      "/kaggle/input/edsa-movie-recommendation-challenge/movies.csv\n",
      "/kaggle/input/edsa-movie-recommendation-challenge/imdb_data.csv\n",
      "/kaggle/input/edsa-movie-recommendation-challenge/genome_tags.csv\n",
      "/kaggle/input/edsa-movie-recommendation-challenge/genome_scores.csv\n",
      "/kaggle/input/edsa-movie-recommendation-challenge/train.csv\n",
      "/kaggle/input/edsa-movie-recommendation-challenge/test.csv\n",
      "/kaggle/input/edsa-movie-recommendation-challenge/tags.csv\n",
      "/kaggle/input/edsa-movie-recommendation-challenge/links.csv\n"
     ]
    }
   ],
   "source": [
    "import numpy as np\n",
    "import pandas as pd\n",
    "import os\n",
    "for dirname, _, filenames in os.walk('/kaggle/input'):\n",
    "    for filename in filenames:\n",
    "        print(os.path.join(dirname, filename))\n",
    "import datetime\n",
    "from sklearn import preprocessing\n",
    "from sklearn.datasets import make_blobs\n",
    "from sklearn.preprocessing import StandardScaler\n",
    "from sklearn.feature_extraction.text import TfidfVectorizer\n",
    "from sklearn.metrics.pairwise import cosine_similarity\n",
    "import re\n",
    "from scipy.sparse import csr_matrix\n",
    "import scipy as sp\n",
    "\n",
    "\n",
    "# Packages for visualization\n",
    "import matplotlib.pyplot as plt\n",
    "import seaborn as sns\n",
    "%matplotlib inline\n",
    "\n",
    "# Packages for modeling\n",
    "from surprise import Reader\n",
    "from surprise import Dataset\n",
    "from surprise import KNNWithMeans\n",
    "from surprise import KNNBasic\n",
    "from surprise.model_selection import cross_validate\n",
    "from surprise.model_selection import GridSearchCV\n",
    "from surprise import SVD\n",
    "from surprise import SVDpp\n",
    "from surprise import NMF\n",
    "from surprise import SlopeOne\n",
    "from surprise import CoClustering\n",
    "import heapq\n",
    "\n",
    "# Packages for model evaluation\n",
    "from sklearn.metrics import mean_squared_error\n",
    "from sklearn.metrics import mean_absolute_error\n",
    "from time import time\n",
    "\n",
    "# Package to suppress warnings\n",
    "import warnings\n",
    "warnings.filterwarnings(\"ignore\")\n",
    "\n",
    "# Packages for saving models\n",
    "import pickle"
   ]
  },
  {
   "cell_type": "markdown",
   "id": "suburban-library",
   "metadata": {
    "papermill": {
     "duration": 0.022627,
     "end_time": "2021-07-03T18:58:51.853810",
     "exception": false,
     "start_time": "2021-07-03T18:58:51.831183",
     "status": "completed"
    },
    "tags": []
   },
   "source": [
    "## Reading in data"
   ]
  },
  {
   "cell_type": "code",
   "execution_count": 2,
   "id": "several-probe",
   "metadata": {
    "execution": {
     "iopub.execute_input": "2021-07-03T18:58:51.901194Z",
     "iopub.status.busy": "2021-07-03T18:58:51.900347Z",
     "iopub.status.idle": "2021-07-03T18:59:10.563758Z",
     "shell.execute_reply": "2021-07-03T18:59:10.563168Z",
     "shell.execute_reply.started": "2021-07-03T18:03:20.465440Z"
    },
    "papermill": {
     "duration": 18.688076,
     "end_time": "2021-07-03T18:59:10.563897",
     "exception": false,
     "start_time": "2021-07-03T18:58:51.875821",
     "status": "completed"
    },
    "tags": []
   },
   "outputs": [],
   "source": [
    "df_sample_submission = pd.read_csv('/kaggle/input/edsa-movie-recommendation-challenge/sample_submission.csv')\n",
    "df_movies = pd.read_csv('/kaggle/input/edsa-movie-recommendation-challenge/movies.csv')\n",
    "df_imdb = pd.read_csv('/kaggle/input/edsa-movie-recommendation-challenge/imdb_data.csv')\n",
    "df_genome_scores = pd.read_csv('/kaggle/input/edsa-movie-recommendation-challenge/genome_scores.csv')\n",
    "df_genome_tags = pd.read_csv('/kaggle/input/edsa-movie-recommendation-challenge/genome_tags.csv')\n",
    "df_train = pd.read_csv('/kaggle/input/edsa-movie-recommendation-challenge/train.csv')\n",
    "df_test = pd.read_csv('/kaggle/input/edsa-movie-recommendation-challenge/test.csv')\n",
    "df_tags = pd.read_csv('/kaggle/input/edsa-movie-recommendation-challenge/tags.csv')\n",
    "df_links = pd.read_csv('/kaggle/input/edsa-movie-recommendation-challenge/links.csv')"
   ]
  },
  {
   "cell_type": "code",
   "execution_count": 3,
   "id": "satisfactory-words",
   "metadata": {
    "execution": {
     "iopub.execute_input": "2021-07-03T18:59:10.618647Z",
     "iopub.status.busy": "2021-07-03T18:59:10.618020Z",
     "iopub.status.idle": "2021-07-03T18:59:10.633078Z",
     "shell.execute_reply": "2021-07-03T18:59:10.633512Z",
     "shell.execute_reply.started": "2021-07-03T18:03:53.329176Z"
    },
    "papermill": {
     "duration": 0.046613,
     "end_time": "2021-07-03T18:59:10.633703",
     "exception": false,
     "start_time": "2021-07-03T18:59:10.587090",
     "status": "completed"
    },
    "tags": []
   },
   "outputs": [
    {
     "data": {
      "text/html": [
       "<div>\n",
       "<style scoped>\n",
       "    .dataframe tbody tr th:only-of-type {\n",
       "        vertical-align: middle;\n",
       "    }\n",
       "\n",
       "    .dataframe tbody tr th {\n",
       "        vertical-align: top;\n",
       "    }\n",
       "\n",
       "    .dataframe thead th {\n",
       "        text-align: right;\n",
       "    }\n",
       "</style>\n",
       "<table border=\"1\" class=\"dataframe\">\n",
       "  <thead>\n",
       "    <tr style=\"text-align: right;\">\n",
       "      <th></th>\n",
       "      <th>userId</th>\n",
       "      <th>movieId</th>\n",
       "    </tr>\n",
       "  </thead>\n",
       "  <tbody>\n",
       "    <tr>\n",
       "      <th>0</th>\n",
       "      <td>1</td>\n",
       "      <td>2011</td>\n",
       "    </tr>\n",
       "    <tr>\n",
       "      <th>1</th>\n",
       "      <td>1</td>\n",
       "      <td>4144</td>\n",
       "    </tr>\n",
       "    <tr>\n",
       "      <th>2</th>\n",
       "      <td>1</td>\n",
       "      <td>5767</td>\n",
       "    </tr>\n",
       "    <tr>\n",
       "      <th>3</th>\n",
       "      <td>1</td>\n",
       "      <td>6711</td>\n",
       "    </tr>\n",
       "    <tr>\n",
       "      <th>4</th>\n",
       "      <td>1</td>\n",
       "      <td>7318</td>\n",
       "    </tr>\n",
       "  </tbody>\n",
       "</table>\n",
       "</div>"
      ],
      "text/plain": [
       "   userId  movieId\n",
       "0       1     2011\n",
       "1       1     4144\n",
       "2       1     5767\n",
       "3       1     6711\n",
       "4       1     7318"
      ]
     },
     "execution_count": 3,
     "metadata": {},
     "output_type": "execute_result"
    }
   ],
   "source": [
    "df_test.head()"
   ]
  },
  {
   "cell_type": "code",
   "execution_count": 4,
   "id": "governing-athletics",
   "metadata": {
    "execution": {
     "iopub.execute_input": "2021-07-03T18:59:10.681068Z",
     "iopub.status.busy": "2021-07-03T18:59:10.680469Z",
     "iopub.status.idle": "2021-07-03T18:59:10.688994Z",
     "shell.execute_reply": "2021-07-03T18:59:10.689345Z",
     "shell.execute_reply.started": "2021-07-03T18:04:02.138520Z"
    },
    "papermill": {
     "duration": 0.033391,
     "end_time": "2021-07-03T18:59:10.689495",
     "exception": false,
     "start_time": "2021-07-03T18:59:10.656104",
     "status": "completed"
    },
    "tags": []
   },
   "outputs": [
    {
     "data": {
      "text/html": [
       "<div>\n",
       "<style scoped>\n",
       "    .dataframe tbody tr th:only-of-type {\n",
       "        vertical-align: middle;\n",
       "    }\n",
       "\n",
       "    .dataframe tbody tr th {\n",
       "        vertical-align: top;\n",
       "    }\n",
       "\n",
       "    .dataframe thead th {\n",
       "        text-align: right;\n",
       "    }\n",
       "</style>\n",
       "<table border=\"1\" class=\"dataframe\">\n",
       "  <thead>\n",
       "    <tr style=\"text-align: right;\">\n",
       "      <th></th>\n",
       "      <th>userId</th>\n",
       "      <th>movieId</th>\n",
       "      <th>rating</th>\n",
       "      <th>timestamp</th>\n",
       "    </tr>\n",
       "  </thead>\n",
       "  <tbody>\n",
       "    <tr>\n",
       "      <th>0</th>\n",
       "      <td>5163</td>\n",
       "      <td>57669</td>\n",
       "      <td>4.0</td>\n",
       "      <td>1518349992</td>\n",
       "    </tr>\n",
       "    <tr>\n",
       "      <th>1</th>\n",
       "      <td>106343</td>\n",
       "      <td>5</td>\n",
       "      <td>4.5</td>\n",
       "      <td>1206238739</td>\n",
       "    </tr>\n",
       "    <tr>\n",
       "      <th>2</th>\n",
       "      <td>146790</td>\n",
       "      <td>5459</td>\n",
       "      <td>5.0</td>\n",
       "      <td>1076215539</td>\n",
       "    </tr>\n",
       "    <tr>\n",
       "      <th>3</th>\n",
       "      <td>106362</td>\n",
       "      <td>32296</td>\n",
       "      <td>2.0</td>\n",
       "      <td>1423042565</td>\n",
       "    </tr>\n",
       "    <tr>\n",
       "      <th>4</th>\n",
       "      <td>9041</td>\n",
       "      <td>366</td>\n",
       "      <td>3.0</td>\n",
       "      <td>833375837</td>\n",
       "    </tr>\n",
       "  </tbody>\n",
       "</table>\n",
       "</div>"
      ],
      "text/plain": [
       "   userId  movieId  rating   timestamp\n",
       "0    5163    57669     4.0  1518349992\n",
       "1  106343        5     4.5  1206238739\n",
       "2  146790     5459     5.0  1076215539\n",
       "3  106362    32296     2.0  1423042565\n",
       "4    9041      366     3.0   833375837"
      ]
     },
     "execution_count": 4,
     "metadata": {},
     "output_type": "execute_result"
    }
   ],
   "source": [
    "df_train.head()"
   ]
  },
  {
   "cell_type": "code",
   "execution_count": 5,
   "id": "organized-logging",
   "metadata": {
    "execution": {
     "iopub.execute_input": "2021-07-03T18:59:10.737929Z",
     "iopub.status.busy": "2021-07-03T18:59:10.737347Z",
     "iopub.status.idle": "2021-07-03T18:59:10.747875Z",
     "shell.execute_reply": "2021-07-03T18:59:10.747424Z",
     "shell.execute_reply.started": "2021-07-03T18:04:10.020003Z"
    },
    "papermill": {
     "duration": 0.035482,
     "end_time": "2021-07-03T18:59:10.748004",
     "exception": false,
     "start_time": "2021-07-03T18:59:10.712522",
     "status": "completed"
    },
    "tags": []
   },
   "outputs": [
    {
     "data": {
      "text/html": [
       "<div>\n",
       "<style scoped>\n",
       "    .dataframe tbody tr th:only-of-type {\n",
       "        vertical-align: middle;\n",
       "    }\n",
       "\n",
       "    .dataframe tbody tr th {\n",
       "        vertical-align: top;\n",
       "    }\n",
       "\n",
       "    .dataframe thead th {\n",
       "        text-align: right;\n",
       "    }\n",
       "</style>\n",
       "<table border=\"1\" class=\"dataframe\">\n",
       "  <thead>\n",
       "    <tr style=\"text-align: right;\">\n",
       "      <th></th>\n",
       "      <th>movieId</th>\n",
       "      <th>title_cast</th>\n",
       "      <th>director</th>\n",
       "      <th>runtime</th>\n",
       "      <th>budget</th>\n",
       "      <th>plot_keywords</th>\n",
       "    </tr>\n",
       "  </thead>\n",
       "  <tbody>\n",
       "    <tr>\n",
       "      <th>0</th>\n",
       "      <td>1</td>\n",
       "      <td>Tom Hanks|Tim Allen|Don Rickles|Jim Varney|Wal...</td>\n",
       "      <td>John Lasseter</td>\n",
       "      <td>81.0</td>\n",
       "      <td>$30,000,000</td>\n",
       "      <td>toy|rivalry|cowboy|cgi animation</td>\n",
       "    </tr>\n",
       "    <tr>\n",
       "      <th>1</th>\n",
       "      <td>2</td>\n",
       "      <td>Robin Williams|Jonathan Hyde|Kirsten Dunst|Bra...</td>\n",
       "      <td>Jonathan Hensleigh</td>\n",
       "      <td>104.0</td>\n",
       "      <td>$65,000,000</td>\n",
       "      <td>board game|adventurer|fight|game</td>\n",
       "    </tr>\n",
       "    <tr>\n",
       "      <th>2</th>\n",
       "      <td>3</td>\n",
       "      <td>Walter Matthau|Jack Lemmon|Sophia Loren|Ann-Ma...</td>\n",
       "      <td>Mark Steven Johnson</td>\n",
       "      <td>101.0</td>\n",
       "      <td>$25,000,000</td>\n",
       "      <td>boat|lake|neighbor|rivalry</td>\n",
       "    </tr>\n",
       "    <tr>\n",
       "      <th>3</th>\n",
       "      <td>4</td>\n",
       "      <td>Whitney Houston|Angela Bassett|Loretta Devine|...</td>\n",
       "      <td>Terry McMillan</td>\n",
       "      <td>124.0</td>\n",
       "      <td>$16,000,000</td>\n",
       "      <td>black american|husband wife relationship|betra...</td>\n",
       "    </tr>\n",
       "    <tr>\n",
       "      <th>4</th>\n",
       "      <td>5</td>\n",
       "      <td>Steve Martin|Diane Keaton|Martin Short|Kimberl...</td>\n",
       "      <td>Albert Hackett</td>\n",
       "      <td>106.0</td>\n",
       "      <td>$30,000,000</td>\n",
       "      <td>fatherhood|doberman|dog|mansion</td>\n",
       "    </tr>\n",
       "  </tbody>\n",
       "</table>\n",
       "</div>"
      ],
      "text/plain": [
       "   movieId                                         title_cast  \\\n",
       "0        1  Tom Hanks|Tim Allen|Don Rickles|Jim Varney|Wal...   \n",
       "1        2  Robin Williams|Jonathan Hyde|Kirsten Dunst|Bra...   \n",
       "2        3  Walter Matthau|Jack Lemmon|Sophia Loren|Ann-Ma...   \n",
       "3        4  Whitney Houston|Angela Bassett|Loretta Devine|...   \n",
       "4        5  Steve Martin|Diane Keaton|Martin Short|Kimberl...   \n",
       "\n",
       "              director  runtime       budget  \\\n",
       "0        John Lasseter     81.0  $30,000,000   \n",
       "1   Jonathan Hensleigh    104.0  $65,000,000   \n",
       "2  Mark Steven Johnson    101.0  $25,000,000   \n",
       "3       Terry McMillan    124.0  $16,000,000   \n",
       "4       Albert Hackett    106.0  $30,000,000   \n",
       "\n",
       "                                       plot_keywords  \n",
       "0                   toy|rivalry|cowboy|cgi animation  \n",
       "1                   board game|adventurer|fight|game  \n",
       "2                         boat|lake|neighbor|rivalry  \n",
       "3  black american|husband wife relationship|betra...  \n",
       "4                    fatherhood|doberman|dog|mansion  "
      ]
     },
     "execution_count": 5,
     "metadata": {},
     "output_type": "execute_result"
    }
   ],
   "source": [
    "df_imdb.head()"
   ]
  },
  {
   "cell_type": "code",
   "execution_count": 6,
   "id": "entertaining-thinking",
   "metadata": {
    "execution": {
     "iopub.execute_input": "2021-07-03T18:59:10.802511Z",
     "iopub.status.busy": "2021-07-03T18:59:10.801943Z",
     "iopub.status.idle": "2021-07-03T18:59:10.807029Z",
     "shell.execute_reply": "2021-07-03T18:59:10.806580Z",
     "shell.execute_reply.started": "2021-07-03T18:04:16.573958Z"
    },
    "papermill": {
     "duration": 0.036045,
     "end_time": "2021-07-03T18:59:10.807159",
     "exception": false,
     "start_time": "2021-07-03T18:59:10.771114",
     "status": "completed"
    },
    "tags": []
   },
   "outputs": [
    {
     "data": {
      "text/html": [
       "<div>\n",
       "<style scoped>\n",
       "    .dataframe tbody tr th:only-of-type {\n",
       "        vertical-align: middle;\n",
       "    }\n",
       "\n",
       "    .dataframe tbody tr th {\n",
       "        vertical-align: top;\n",
       "    }\n",
       "\n",
       "    .dataframe thead th {\n",
       "        text-align: right;\n",
       "    }\n",
       "</style>\n",
       "<table border=\"1\" class=\"dataframe\">\n",
       "  <thead>\n",
       "    <tr style=\"text-align: right;\">\n",
       "      <th></th>\n",
       "      <th>movieId</th>\n",
       "      <th>tagId</th>\n",
       "      <th>relevance</th>\n",
       "    </tr>\n",
       "  </thead>\n",
       "  <tbody>\n",
       "    <tr>\n",
       "      <th>0</th>\n",
       "      <td>1</td>\n",
       "      <td>1</td>\n",
       "      <td>0.02875</td>\n",
       "    </tr>\n",
       "    <tr>\n",
       "      <th>1</th>\n",
       "      <td>1</td>\n",
       "      <td>2</td>\n",
       "      <td>0.02375</td>\n",
       "    </tr>\n",
       "    <tr>\n",
       "      <th>2</th>\n",
       "      <td>1</td>\n",
       "      <td>3</td>\n",
       "      <td>0.06250</td>\n",
       "    </tr>\n",
       "    <tr>\n",
       "      <th>3</th>\n",
       "      <td>1</td>\n",
       "      <td>4</td>\n",
       "      <td>0.07575</td>\n",
       "    </tr>\n",
       "    <tr>\n",
       "      <th>4</th>\n",
       "      <td>1</td>\n",
       "      <td>5</td>\n",
       "      <td>0.14075</td>\n",
       "    </tr>\n",
       "  </tbody>\n",
       "</table>\n",
       "</div>"
      ],
      "text/plain": [
       "   movieId  tagId  relevance\n",
       "0        1      1    0.02875\n",
       "1        1      2    0.02375\n",
       "2        1      3    0.06250\n",
       "3        1      4    0.07575\n",
       "4        1      5    0.14075"
      ]
     },
     "execution_count": 6,
     "metadata": {},
     "output_type": "execute_result"
    }
   ],
   "source": [
    "df_genome_scores.head()"
   ]
  },
  {
   "cell_type": "code",
   "execution_count": 7,
   "id": "unlikely-drawing",
   "metadata": {
    "execution": {
     "iopub.execute_input": "2021-07-03T18:59:10.862940Z",
     "iopub.status.busy": "2021-07-03T18:59:10.862213Z",
     "iopub.status.idle": "2021-07-03T18:59:10.865930Z",
     "shell.execute_reply": "2021-07-03T18:59:10.865388Z",
     "shell.execute_reply.started": "2021-07-03T18:04:24.458028Z"
    },
    "papermill": {
     "duration": 0.035424,
     "end_time": "2021-07-03T18:59:10.866058",
     "exception": false,
     "start_time": "2021-07-03T18:59:10.830634",
     "status": "completed"
    },
    "tags": []
   },
   "outputs": [
    {
     "data": {
      "text/html": [
       "<div>\n",
       "<style scoped>\n",
       "    .dataframe tbody tr th:only-of-type {\n",
       "        vertical-align: middle;\n",
       "    }\n",
       "\n",
       "    .dataframe tbody tr th {\n",
       "        vertical-align: top;\n",
       "    }\n",
       "\n",
       "    .dataframe thead th {\n",
       "        text-align: right;\n",
       "    }\n",
       "</style>\n",
       "<table border=\"1\" class=\"dataframe\">\n",
       "  <thead>\n",
       "    <tr style=\"text-align: right;\">\n",
       "      <th></th>\n",
       "      <th>movieId</th>\n",
       "      <th>imdbId</th>\n",
       "      <th>tmdbId</th>\n",
       "    </tr>\n",
       "  </thead>\n",
       "  <tbody>\n",
       "    <tr>\n",
       "      <th>0</th>\n",
       "      <td>1</td>\n",
       "      <td>114709</td>\n",
       "      <td>862.0</td>\n",
       "    </tr>\n",
       "    <tr>\n",
       "      <th>1</th>\n",
       "      <td>2</td>\n",
       "      <td>113497</td>\n",
       "      <td>8844.0</td>\n",
       "    </tr>\n",
       "    <tr>\n",
       "      <th>2</th>\n",
       "      <td>3</td>\n",
       "      <td>113228</td>\n",
       "      <td>15602.0</td>\n",
       "    </tr>\n",
       "    <tr>\n",
       "      <th>3</th>\n",
       "      <td>4</td>\n",
       "      <td>114885</td>\n",
       "      <td>31357.0</td>\n",
       "    </tr>\n",
       "    <tr>\n",
       "      <th>4</th>\n",
       "      <td>5</td>\n",
       "      <td>113041</td>\n",
       "      <td>11862.0</td>\n",
       "    </tr>\n",
       "  </tbody>\n",
       "</table>\n",
       "</div>"
      ],
      "text/plain": [
       "   movieId  imdbId   tmdbId\n",
       "0        1  114709    862.0\n",
       "1        2  113497   8844.0\n",
       "2        3  113228  15602.0\n",
       "3        4  114885  31357.0\n",
       "4        5  113041  11862.0"
      ]
     },
     "execution_count": 7,
     "metadata": {},
     "output_type": "execute_result"
    }
   ],
   "source": [
    "df_links.head()"
   ]
  },
  {
   "cell_type": "code",
   "execution_count": 8,
   "id": "innovative-subscriber",
   "metadata": {
    "execution": {
     "iopub.execute_input": "2021-07-03T18:59:10.922399Z",
     "iopub.status.busy": "2021-07-03T18:59:10.921586Z",
     "iopub.status.idle": "2021-07-03T18:59:10.925505Z",
     "shell.execute_reply": "2021-07-03T18:59:10.925885Z",
     "shell.execute_reply.started": "2021-07-03T18:04:31.835967Z"
    },
    "papermill": {
     "duration": 0.036131,
     "end_time": "2021-07-03T18:59:10.926050",
     "exception": false,
     "start_time": "2021-07-03T18:59:10.889919",
     "status": "completed"
    },
    "tags": []
   },
   "outputs": [
    {
     "data": {
      "text/html": [
       "<div>\n",
       "<style scoped>\n",
       "    .dataframe tbody tr th:only-of-type {\n",
       "        vertical-align: middle;\n",
       "    }\n",
       "\n",
       "    .dataframe tbody tr th {\n",
       "        vertical-align: top;\n",
       "    }\n",
       "\n",
       "    .dataframe thead th {\n",
       "        text-align: right;\n",
       "    }\n",
       "</style>\n",
       "<table border=\"1\" class=\"dataframe\">\n",
       "  <thead>\n",
       "    <tr style=\"text-align: right;\">\n",
       "      <th></th>\n",
       "      <th>userId</th>\n",
       "      <th>movieId</th>\n",
       "      <th>tag</th>\n",
       "      <th>timestamp</th>\n",
       "    </tr>\n",
       "  </thead>\n",
       "  <tbody>\n",
       "    <tr>\n",
       "      <th>0</th>\n",
       "      <td>3</td>\n",
       "      <td>260</td>\n",
       "      <td>classic</td>\n",
       "      <td>1439472355</td>\n",
       "    </tr>\n",
       "    <tr>\n",
       "      <th>1</th>\n",
       "      <td>3</td>\n",
       "      <td>260</td>\n",
       "      <td>sci-fi</td>\n",
       "      <td>1439472256</td>\n",
       "    </tr>\n",
       "    <tr>\n",
       "      <th>2</th>\n",
       "      <td>4</td>\n",
       "      <td>1732</td>\n",
       "      <td>dark comedy</td>\n",
       "      <td>1573943598</td>\n",
       "    </tr>\n",
       "    <tr>\n",
       "      <th>3</th>\n",
       "      <td>4</td>\n",
       "      <td>1732</td>\n",
       "      <td>great dialogue</td>\n",
       "      <td>1573943604</td>\n",
       "    </tr>\n",
       "    <tr>\n",
       "      <th>4</th>\n",
       "      <td>4</td>\n",
       "      <td>7569</td>\n",
       "      <td>so bad it's good</td>\n",
       "      <td>1573943455</td>\n",
       "    </tr>\n",
       "  </tbody>\n",
       "</table>\n",
       "</div>"
      ],
      "text/plain": [
       "   userId  movieId               tag   timestamp\n",
       "0       3      260           classic  1439472355\n",
       "1       3      260            sci-fi  1439472256\n",
       "2       4     1732       dark comedy  1573943598\n",
       "3       4     1732    great dialogue  1573943604\n",
       "4       4     7569  so bad it's good  1573943455"
      ]
     },
     "execution_count": 8,
     "metadata": {},
     "output_type": "execute_result"
    }
   ],
   "source": [
    "df_tags.head()"
   ]
  },
  {
   "cell_type": "code",
   "execution_count": 9,
   "id": "configured-paragraph",
   "metadata": {
    "execution": {
     "iopub.execute_input": "2021-07-03T18:59:10.982088Z",
     "iopub.status.busy": "2021-07-03T18:59:10.981539Z",
     "iopub.status.idle": "2021-07-03T18:59:10.985708Z",
     "shell.execute_reply": "2021-07-03T18:59:10.985263Z",
     "shell.execute_reply.started": "2021-07-03T18:04:46.371751Z"
    },
    "papermill": {
     "duration": 0.035692,
     "end_time": "2021-07-03T18:59:10.985833",
     "exception": false,
     "start_time": "2021-07-03T18:59:10.950141",
     "status": "completed"
    },
    "tags": []
   },
   "outputs": [
    {
     "data": {
      "text/html": [
       "<div>\n",
       "<style scoped>\n",
       "    .dataframe tbody tr th:only-of-type {\n",
       "        vertical-align: middle;\n",
       "    }\n",
       "\n",
       "    .dataframe tbody tr th {\n",
       "        vertical-align: top;\n",
       "    }\n",
       "\n",
       "    .dataframe thead th {\n",
       "        text-align: right;\n",
       "    }\n",
       "</style>\n",
       "<table border=\"1\" class=\"dataframe\">\n",
       "  <thead>\n",
       "    <tr style=\"text-align: right;\">\n",
       "      <th></th>\n",
       "      <th>tagId</th>\n",
       "      <th>tag</th>\n",
       "    </tr>\n",
       "  </thead>\n",
       "  <tbody>\n",
       "    <tr>\n",
       "      <th>0</th>\n",
       "      <td>1</td>\n",
       "      <td>007</td>\n",
       "    </tr>\n",
       "    <tr>\n",
       "      <th>1</th>\n",
       "      <td>2</td>\n",
       "      <td>007 (series)</td>\n",
       "    </tr>\n",
       "    <tr>\n",
       "      <th>2</th>\n",
       "      <td>3</td>\n",
       "      <td>18th century</td>\n",
       "    </tr>\n",
       "    <tr>\n",
       "      <th>3</th>\n",
       "      <td>4</td>\n",
       "      <td>1920s</td>\n",
       "    </tr>\n",
       "    <tr>\n",
       "      <th>4</th>\n",
       "      <td>5</td>\n",
       "      <td>1930s</td>\n",
       "    </tr>\n",
       "  </tbody>\n",
       "</table>\n",
       "</div>"
      ],
      "text/plain": [
       "   tagId           tag\n",
       "0      1           007\n",
       "1      2  007 (series)\n",
       "2      3  18th century\n",
       "3      4         1920s\n",
       "4      5         1930s"
      ]
     },
     "execution_count": 9,
     "metadata": {},
     "output_type": "execute_result"
    }
   ],
   "source": [
    "df_genome_tags.head()"
   ]
  },
  {
   "cell_type": "code",
   "execution_count": 10,
   "id": "adjustable-hunger",
   "metadata": {
    "execution": {
     "iopub.execute_input": "2021-07-03T18:59:11.042975Z",
     "iopub.status.busy": "2021-07-03T18:59:11.040300Z",
     "iopub.status.idle": "2021-07-03T18:59:11.047762Z",
     "shell.execute_reply": "2021-07-03T18:59:11.048149Z",
     "shell.execute_reply.started": "2021-07-03T18:04:49.751720Z"
    },
    "papermill": {
     "duration": 0.037945,
     "end_time": "2021-07-03T18:59:11.048312",
     "exception": false,
     "start_time": "2021-07-03T18:59:11.010367",
     "status": "completed"
    },
    "tags": []
   },
   "outputs": [
    {
     "data": {
      "text/html": [
       "<div>\n",
       "<style scoped>\n",
       "    .dataframe tbody tr th:only-of-type {\n",
       "        vertical-align: middle;\n",
       "    }\n",
       "\n",
       "    .dataframe tbody tr th {\n",
       "        vertical-align: top;\n",
       "    }\n",
       "\n",
       "    .dataframe thead th {\n",
       "        text-align: right;\n",
       "    }\n",
       "</style>\n",
       "<table border=\"1\" class=\"dataframe\">\n",
       "  <thead>\n",
       "    <tr style=\"text-align: right;\">\n",
       "      <th></th>\n",
       "      <th>movieId</th>\n",
       "      <th>tagId</th>\n",
       "      <th>relevance</th>\n",
       "    </tr>\n",
       "  </thead>\n",
       "  <tbody>\n",
       "    <tr>\n",
       "      <th>0</th>\n",
       "      <td>1</td>\n",
       "      <td>1</td>\n",
       "      <td>0.02875</td>\n",
       "    </tr>\n",
       "    <tr>\n",
       "      <th>1</th>\n",
       "      <td>1</td>\n",
       "      <td>2</td>\n",
       "      <td>0.02375</td>\n",
       "    </tr>\n",
       "    <tr>\n",
       "      <th>2</th>\n",
       "      <td>1</td>\n",
       "      <td>3</td>\n",
       "      <td>0.06250</td>\n",
       "    </tr>\n",
       "    <tr>\n",
       "      <th>3</th>\n",
       "      <td>1</td>\n",
       "      <td>4</td>\n",
       "      <td>0.07575</td>\n",
       "    </tr>\n",
       "    <tr>\n",
       "      <th>4</th>\n",
       "      <td>1</td>\n",
       "      <td>5</td>\n",
       "      <td>0.14075</td>\n",
       "    </tr>\n",
       "  </tbody>\n",
       "</table>\n",
       "</div>"
      ],
      "text/plain": [
       "   movieId  tagId  relevance\n",
       "0        1      1    0.02875\n",
       "1        1      2    0.02375\n",
       "2        1      3    0.06250\n",
       "3        1      4    0.07575\n",
       "4        1      5    0.14075"
      ]
     },
     "execution_count": 10,
     "metadata": {},
     "output_type": "execute_result"
    }
   ],
   "source": [
    "df_genome_scores.head()"
   ]
  },
  {
   "cell_type": "code",
   "execution_count": 11,
   "id": "patent-jungle",
   "metadata": {
    "execution": {
     "iopub.execute_input": "2021-07-03T18:59:11.106154Z",
     "iopub.status.busy": "2021-07-03T18:59:11.105569Z",
     "iopub.status.idle": "2021-07-03T18:59:11.111021Z",
     "shell.execute_reply": "2021-07-03T18:59:11.110534Z",
     "shell.execute_reply.started": "2021-07-03T18:04:57.646896Z"
    },
    "papermill": {
     "duration": 0.037753,
     "end_time": "2021-07-03T18:59:11.111154",
     "exception": false,
     "start_time": "2021-07-03T18:59:11.073401",
     "status": "completed"
    },
    "tags": []
   },
   "outputs": [
    {
     "data": {
      "text/html": [
       "<div>\n",
       "<style scoped>\n",
       "    .dataframe tbody tr th:only-of-type {\n",
       "        vertical-align: middle;\n",
       "    }\n",
       "\n",
       "    .dataframe tbody tr th {\n",
       "        vertical-align: top;\n",
       "    }\n",
       "\n",
       "    .dataframe thead th {\n",
       "        text-align: right;\n",
       "    }\n",
       "</style>\n",
       "<table border=\"1\" class=\"dataframe\">\n",
       "  <thead>\n",
       "    <tr style=\"text-align: right;\">\n",
       "      <th></th>\n",
       "      <th>movieId</th>\n",
       "      <th>title</th>\n",
       "      <th>genres</th>\n",
       "    </tr>\n",
       "  </thead>\n",
       "  <tbody>\n",
       "    <tr>\n",
       "      <th>0</th>\n",
       "      <td>1</td>\n",
       "      <td>Toy Story (1995)</td>\n",
       "      <td>Adventure|Animation|Children|Comedy|Fantasy</td>\n",
       "    </tr>\n",
       "    <tr>\n",
       "      <th>1</th>\n",
       "      <td>2</td>\n",
       "      <td>Jumanji (1995)</td>\n",
       "      <td>Adventure|Children|Fantasy</td>\n",
       "    </tr>\n",
       "    <tr>\n",
       "      <th>2</th>\n",
       "      <td>3</td>\n",
       "      <td>Grumpier Old Men (1995)</td>\n",
       "      <td>Comedy|Romance</td>\n",
       "    </tr>\n",
       "    <tr>\n",
       "      <th>3</th>\n",
       "      <td>4</td>\n",
       "      <td>Waiting to Exhale (1995)</td>\n",
       "      <td>Comedy|Drama|Romance</td>\n",
       "    </tr>\n",
       "    <tr>\n",
       "      <th>4</th>\n",
       "      <td>5</td>\n",
       "      <td>Father of the Bride Part II (1995)</td>\n",
       "      <td>Comedy</td>\n",
       "    </tr>\n",
       "  </tbody>\n",
       "</table>\n",
       "</div>"
      ],
      "text/plain": [
       "   movieId                               title  \\\n",
       "0        1                    Toy Story (1995)   \n",
       "1        2                      Jumanji (1995)   \n",
       "2        3             Grumpier Old Men (1995)   \n",
       "3        4            Waiting to Exhale (1995)   \n",
       "4        5  Father of the Bride Part II (1995)   \n",
       "\n",
       "                                        genres  \n",
       "0  Adventure|Animation|Children|Comedy|Fantasy  \n",
       "1                   Adventure|Children|Fantasy  \n",
       "2                               Comedy|Romance  \n",
       "3                         Comedy|Drama|Romance  \n",
       "4                                       Comedy  "
      ]
     },
     "execution_count": 11,
     "metadata": {},
     "output_type": "execute_result"
    }
   ],
   "source": [
    "df_movies.head()"
   ]
  },
  {
   "cell_type": "code",
   "execution_count": 12,
   "id": "prospective-mandate",
   "metadata": {
    "execution": {
     "iopub.execute_input": "2021-07-03T18:59:11.171331Z",
     "iopub.status.busy": "2021-07-03T18:59:11.170442Z",
     "iopub.status.idle": "2021-07-03T18:59:11.174337Z",
     "shell.execute_reply": "2021-07-03T18:59:11.173877Z",
     "shell.execute_reply.started": "2021-07-03T18:05:01.222852Z"
    },
    "papermill": {
     "duration": 0.037806,
     "end_time": "2021-07-03T18:59:11.174465",
     "exception": false,
     "start_time": "2021-07-03T18:59:11.136659",
     "status": "completed"
    },
    "tags": []
   },
   "outputs": [
    {
     "data": {
      "text/html": [
       "<div>\n",
       "<style scoped>\n",
       "    .dataframe tbody tr th:only-of-type {\n",
       "        vertical-align: middle;\n",
       "    }\n",
       "\n",
       "    .dataframe tbody tr th {\n",
       "        vertical-align: top;\n",
       "    }\n",
       "\n",
       "    .dataframe thead th {\n",
       "        text-align: right;\n",
       "    }\n",
       "</style>\n",
       "<table border=\"1\" class=\"dataframe\">\n",
       "  <thead>\n",
       "    <tr style=\"text-align: right;\">\n",
       "      <th></th>\n",
       "      <th>Id</th>\n",
       "      <th>rating</th>\n",
       "    </tr>\n",
       "  </thead>\n",
       "  <tbody>\n",
       "    <tr>\n",
       "      <th>0</th>\n",
       "      <td>1_2011</td>\n",
       "      <td>1.0</td>\n",
       "    </tr>\n",
       "    <tr>\n",
       "      <th>1</th>\n",
       "      <td>1_4144</td>\n",
       "      <td>1.0</td>\n",
       "    </tr>\n",
       "    <tr>\n",
       "      <th>2</th>\n",
       "      <td>1_5767</td>\n",
       "      <td>1.0</td>\n",
       "    </tr>\n",
       "    <tr>\n",
       "      <th>3</th>\n",
       "      <td>1_6711</td>\n",
       "      <td>1.0</td>\n",
       "    </tr>\n",
       "    <tr>\n",
       "      <th>4</th>\n",
       "      <td>1_7318</td>\n",
       "      <td>1.0</td>\n",
       "    </tr>\n",
       "    <tr>\n",
       "      <th>5</th>\n",
       "      <td>1_8405</td>\n",
       "      <td>1.0</td>\n",
       "    </tr>\n",
       "    <tr>\n",
       "      <th>6</th>\n",
       "      <td>1_8786</td>\n",
       "      <td>1.0</td>\n",
       "    </tr>\n",
       "    <tr>\n",
       "      <th>7</th>\n",
       "      <td>2_150</td>\n",
       "      <td>1.0</td>\n",
       "    </tr>\n",
       "    <tr>\n",
       "      <th>8</th>\n",
       "      <td>2_356</td>\n",
       "      <td>1.0</td>\n",
       "    </tr>\n",
       "    <tr>\n",
       "      <th>9</th>\n",
       "      <td>2_497</td>\n",
       "      <td>1.0</td>\n",
       "    </tr>\n",
       "  </tbody>\n",
       "</table>\n",
       "</div>"
      ],
      "text/plain": [
       "       Id  rating\n",
       "0  1_2011     1.0\n",
       "1  1_4144     1.0\n",
       "2  1_5767     1.0\n",
       "3  1_6711     1.0\n",
       "4  1_7318     1.0\n",
       "5  1_8405     1.0\n",
       "6  1_8786     1.0\n",
       "7   2_150     1.0\n",
       "8   2_356     1.0\n",
       "9   2_497     1.0"
      ]
     },
     "execution_count": 12,
     "metadata": {},
     "output_type": "execute_result"
    }
   ],
   "source": [
    "df_sample_submission.head(10)"
   ]
  },
  {
   "cell_type": "markdown",
   "id": "digital-photographer",
   "metadata": {
    "papermill": {
     "duration": 0.025264,
     "end_time": "2021-07-03T18:59:11.225144",
     "exception": false,
     "start_time": "2021-07-03T18:59:11.199880",
     "status": "completed"
    },
    "tags": []
   },
   "source": [
    "## EDA\n",
    "Discovery phase and data understanding"
   ]
  },
  {
   "cell_type": "markdown",
   "id": "limiting-wayne",
   "metadata": {
    "papermill": {
     "duration": 0.025331,
     "end_time": "2021-07-03T18:59:11.276026",
     "exception": false,
     "start_time": "2021-07-03T18:59:11.250695",
     "status": "completed"
    },
    "tags": []
   },
   "source": [
    "**Most common Genres**"
   ]
  },
  {
   "cell_type": "code",
   "execution_count": 13,
   "id": "ecological-evaluation",
   "metadata": {
    "execution": {
     "iopub.execute_input": "2021-07-03T18:59:11.342227Z",
     "iopub.status.busy": "2021-07-03T18:59:11.336578Z",
     "iopub.status.idle": "2021-07-03T18:59:11.573190Z",
     "shell.execute_reply": "2021-07-03T18:59:11.572757Z",
     "shell.execute_reply.started": "2021-07-03T18:05:12.999389Z"
    },
    "papermill": {
     "duration": 0.271636,
     "end_time": "2021-07-03T18:59:11.573321",
     "exception": false,
     "start_time": "2021-07-03T18:59:11.301685",
     "status": "completed"
    },
    "tags": []
   },
   "outputs": [
    {
     "data": {
      "text/html": [
       "<div>\n",
       "<style scoped>\n",
       "    .dataframe tbody tr th:only-of-type {\n",
       "        vertical-align: middle;\n",
       "    }\n",
       "\n",
       "    .dataframe tbody tr th {\n",
       "        vertical-align: top;\n",
       "    }\n",
       "\n",
       "    .dataframe thead th {\n",
       "        text-align: right;\n",
       "    }\n",
       "</style>\n",
       "<table border=\"1\" class=\"dataframe\">\n",
       "  <thead>\n",
       "    <tr style=\"text-align: right;\">\n",
       "      <th></th>\n",
       "      <th>movieId</th>\n",
       "      <th>genres</th>\n",
       "    </tr>\n",
       "  </thead>\n",
       "  <tbody>\n",
       "    <tr>\n",
       "      <th>0</th>\n",
       "      <td>1</td>\n",
       "      <td>Adventure</td>\n",
       "    </tr>\n",
       "    <tr>\n",
       "      <th>1</th>\n",
       "      <td>1</td>\n",
       "      <td>Animation</td>\n",
       "    </tr>\n",
       "    <tr>\n",
       "      <th>2</th>\n",
       "      <td>1</td>\n",
       "      <td>Children</td>\n",
       "    </tr>\n",
       "    <tr>\n",
       "      <th>3</th>\n",
       "      <td>1</td>\n",
       "      <td>Comedy</td>\n",
       "    </tr>\n",
       "    <tr>\n",
       "      <th>4</th>\n",
       "      <td>1</td>\n",
       "      <td>Fantasy</td>\n",
       "    </tr>\n",
       "  </tbody>\n",
       "</table>\n",
       "</div>"
      ],
      "text/plain": [
       "   movieId     genres\n",
       "0        1  Adventure\n",
       "1        1  Animation\n",
       "2        1   Children\n",
       "3        1     Comedy\n",
       "4        1    Fantasy"
      ]
     },
     "execution_count": 13,
     "metadata": {},
     "output_type": "execute_result"
    }
   ],
   "source": [
    "# Create dataframe containing only the movieId and genres\n",
    "movies_genres = pd.DataFrame(df_movies[['movieId', 'genres']],\n",
    "                             columns=['movieId', 'genres'])\n",
    "\n",
    "# Split genres seperated by \"|\" and create a list containing the genres allocated to each movie\n",
    "movies_genres.genres = movies_genres.genres.apply(lambda x: x.split('|'))\n",
    "\n",
    "# Create expanded dataframe where each movie-genre combination is in a seperate row\n",
    "movies_genres = pd.DataFrame([(tup.movieId, d) for tup in movies_genres.itertuples() for d in tup.genres],\n",
    "                             columns=['movieId', 'genres'])\n",
    "\n",
    "movies_genres.head()"
   ]
  },
  {
   "cell_type": "code",
   "execution_count": 14,
   "id": "streaming-explanation",
   "metadata": {
    "execution": {
     "iopub.execute_input": "2021-07-03T18:59:11.642318Z",
     "iopub.status.busy": "2021-07-03T18:59:11.641693Z",
     "iopub.status.idle": "2021-07-03T18:59:11.960755Z",
     "shell.execute_reply": "2021-07-03T18:59:11.961158Z",
     "shell.execute_reply.started": "2021-07-03T18:05:22.663010Z"
    },
    "papermill": {
     "duration": 0.362223,
     "end_time": "2021-07-03T18:59:11.961333",
     "exception": false,
     "start_time": "2021-07-03T18:59:11.599110",
     "status": "completed"
    },
    "tags": []
   },
   "outputs": [
    {
     "data": {
      "image/png": "[encoded data removed]",
      "text/plain": [
       "<Figure size 1080x720 with 1 Axes>"
      ]
     },
     "metadata": {
      "needs_background": "light"
     },
     "output_type": "display_data"
    }
   ],
   "source": [
    "# Plot the genres from most common to least common\n",
    "plot = plt.figure(figsize=(15, 10))\n",
    "plt.title('Most common genres\\n', fontsize=20)\n",
    "sns.countplot(y=\"genres\", data=movies_genres,\n",
    "              order=movies_genres['genres'].value_counts(ascending=False).index,\n",
    "              palette='Reds_r')\n",
    "plt.show()"
   ]
  },
  {
   "cell_type": "markdown",
   "id": "fuzzy-variance",
   "metadata": {
    "papermill": {
     "duration": 0.026228,
     "end_time": "2021-07-03T18:59:12.014711",
     "exception": false,
     "start_time": "2021-07-03T18:59:11.988483",
     "status": "completed"
    },
    "tags": []
   },
   "source": [
    "## Data Prepartion"
   ]
  },
  {
   "cell_type": "markdown",
   "id": "least-flood",
   "metadata": {
    "papermill": {
     "duration": 0.026476,
     "end_time": "2021-07-03T18:59:12.067590",
     "exception": false,
     "start_time": "2021-07-03T18:59:12.041114",
     "status": "completed"
    },
    "tags": []
   },
   "source": [
    "Deleting unnecessary columns"
   ]
  },
  {
   "cell_type": "code",
   "execution_count": 15,
   "id": "global-daisy",
   "metadata": {
    "execution": {
     "iopub.execute_input": "2021-07-03T18:59:12.124300Z",
     "iopub.status.busy": "2021-07-03T18:59:12.123698Z",
     "iopub.status.idle": "2021-07-03T18:59:12.247007Z",
     "shell.execute_reply": "2021-07-03T18:59:12.247458Z",
     "shell.execute_reply.started": "2021-07-03T18:05:32.452993Z"
    },
    "papermill": {
     "duration": 0.152796,
     "end_time": "2021-07-03T18:59:12.247655",
     "exception": false,
     "start_time": "2021-07-03T18:59:12.094859",
     "status": "completed"
    },
    "tags": []
   },
   "outputs": [],
   "source": [
    "df_train = df_train.drop('timestamp',axis = 1)\n",
    "df_tags = df_tags.drop('timestamp',axis = 1)"
   ]
  },
  {
   "cell_type": "markdown",
   "id": "numerical-formula",
   "metadata": {
    "papermill": {
     "duration": 0.026603,
     "end_time": "2021-07-03T18:59:12.301468",
     "exception": false,
     "start_time": "2021-07-03T18:59:12.274865",
     "status": "completed"
    },
    "tags": []
   },
   "source": [
    "Merging the dataframes"
   ]
  },
  {
   "cell_type": "code",
   "execution_count": 16,
   "id": "modular-seventh",
   "metadata": {
    "execution": {
     "iopub.execute_input": "2021-07-03T18:59:12.364143Z",
     "iopub.status.busy": "2021-07-03T18:59:12.363519Z",
     "iopub.status.idle": "2021-07-03T18:59:14.897700Z",
     "shell.execute_reply": "2021-07-03T18:59:14.897138Z",
     "shell.execute_reply.started": "2021-07-03T18:05:39.016879Z"
    },
    "papermill": {
     "duration": 2.569413,
     "end_time": "2021-07-03T18:59:14.897835",
     "exception": false,
     "start_time": "2021-07-03T18:59:12.328422",
     "status": "completed"
    },
    "tags": []
   },
   "outputs": [
    {
     "data": {
      "text/html": [
       "<div>\n",
       "<style scoped>\n",
       "    .dataframe tbody tr th:only-of-type {\n",
       "        vertical-align: middle;\n",
       "    }\n",
       "\n",
       "    .dataframe tbody tr th {\n",
       "        vertical-align: top;\n",
       "    }\n",
       "\n",
       "    .dataframe thead th {\n",
       "        text-align: right;\n",
       "    }\n",
       "</style>\n",
       "<table border=\"1\" class=\"dataframe\">\n",
       "  <thead>\n",
       "    <tr style=\"text-align: right;\">\n",
       "      <th></th>\n",
       "      <th>userId</th>\n",
       "      <th>movieId</th>\n",
       "      <th>title</th>\n",
       "      <th>genres</th>\n",
       "    </tr>\n",
       "  </thead>\n",
       "  <tbody>\n",
       "    <tr>\n",
       "      <th>0</th>\n",
       "      <td>1.0</td>\n",
       "      <td>2011</td>\n",
       "      <td>Back to the Future Part II (1989)</td>\n",
       "      <td>Adventure|Comedy|Sci-Fi</td>\n",
       "    </tr>\n",
       "    <tr>\n",
       "      <th>1</th>\n",
       "      <td>13.0</td>\n",
       "      <td>2011</td>\n",
       "      <td>Back to the Future Part II (1989)</td>\n",
       "      <td>Adventure|Comedy|Sci-Fi</td>\n",
       "    </tr>\n",
       "    <tr>\n",
       "      <th>2</th>\n",
       "      <td>54.0</td>\n",
       "      <td>2011</td>\n",
       "      <td>Back to the Future Part II (1989)</td>\n",
       "      <td>Adventure|Comedy|Sci-Fi</td>\n",
       "    </tr>\n",
       "    <tr>\n",
       "      <th>3</th>\n",
       "      <td>57.0</td>\n",
       "      <td>2011</td>\n",
       "      <td>Back to the Future Part II (1989)</td>\n",
       "      <td>Adventure|Comedy|Sci-Fi</td>\n",
       "    </tr>\n",
       "    <tr>\n",
       "      <th>4</th>\n",
       "      <td>120.0</td>\n",
       "      <td>2011</td>\n",
       "      <td>Back to the Future Part II (1989)</td>\n",
       "      <td>Adventure|Comedy|Sci-Fi</td>\n",
       "    </tr>\n",
       "  </tbody>\n",
       "</table>\n",
       "</div>"
      ],
      "text/plain": [
       "   userId  movieId                              title                   genres\n",
       "0     1.0     2011  Back to the Future Part II (1989)  Adventure|Comedy|Sci-Fi\n",
       "1    13.0     2011  Back to the Future Part II (1989)  Adventure|Comedy|Sci-Fi\n",
       "2    54.0     2011  Back to the Future Part II (1989)  Adventure|Comedy|Sci-Fi\n",
       "3    57.0     2011  Back to the Future Part II (1989)  Adventure|Comedy|Sci-Fi\n",
       "4   120.0     2011  Back to the Future Part II (1989)  Adventure|Comedy|Sci-Fi"
      ]
     },
     "execution_count": 16,
     "metadata": {},
     "output_type": "execute_result"
    }
   ],
   "source": [
    "data = pd.merge(df_train , df_movies , how='outer', on='movieId')\n",
    "test = pd.merge(df_test , df_movies , how='outer', on='movieId')\n",
    "test.head()"
   ]
  },
  {
   "cell_type": "markdown",
   "id": "dress-chorus",
   "metadata": {
    "papermill": {
     "duration": 0.026738,
     "end_time": "2021-07-03T18:59:14.951814",
     "exception": false,
     "start_time": "2021-07-03T18:59:14.925076",
     "status": "completed"
    },
    "tags": []
   },
   "source": [
    "Converting Genres into different columns \n",
    "Here we just create columns and put there initial value as 0"
   ]
  },
  {
   "cell_type": "code",
   "execution_count": 17,
   "id": "ecological-florida",
   "metadata": {
    "execution": {
     "iopub.execute_input": "2021-07-03T18:59:15.125174Z",
     "iopub.status.busy": "2021-07-03T18:59:15.019052Z",
     "iopub.status.idle": "2021-07-03T18:59:39.691507Z",
     "shell.execute_reply": "2021-07-03T18:59:39.690953Z",
     "shell.execute_reply.started": "2021-07-03T18:05:48.127262Z"
    },
    "papermill": {
     "duration": 24.712743,
     "end_time": "2021-07-03T18:59:39.691668",
     "exception": false,
     "start_time": "2021-07-03T18:59:14.978925",
     "status": "completed"
    },
    "tags": []
   },
   "outputs": [
    {
     "data": {
      "text/html": [
       "<div>\n",
       "<style scoped>\n",
       "    .dataframe tbody tr th:only-of-type {\n",
       "        vertical-align: middle;\n",
       "    }\n",
       "\n",
       "    .dataframe tbody tr th {\n",
       "        vertical-align: top;\n",
       "    }\n",
       "\n",
       "    .dataframe thead th {\n",
       "        text-align: right;\n",
       "    }\n",
       "</style>\n",
       "<table border=\"1\" class=\"dataframe\">\n",
       "  <thead>\n",
       "    <tr style=\"text-align: right;\">\n",
       "      <th></th>\n",
       "      <th>userId</th>\n",
       "      <th>movieId</th>\n",
       "      <th>rating</th>\n",
       "      <th>title</th>\n",
       "      <th>genres</th>\n",
       "      <th>Comedy</th>\n",
       "      <th>Action</th>\n",
       "      <th>Adventure</th>\n",
       "      <th>Drama</th>\n",
       "      <th>Animation</th>\n",
       "      <th>...</th>\n",
       "      <th>Mystery</th>\n",
       "      <th>Sci-Fi</th>\n",
       "      <th>Documentary</th>\n",
       "      <th>Musical</th>\n",
       "      <th>Western</th>\n",
       "      <th>Romance</th>\n",
       "      <th>Film-Noir</th>\n",
       "      <th>(no genres listed)</th>\n",
       "      <th>War</th>\n",
       "      <th>IMAX</th>\n",
       "    </tr>\n",
       "  </thead>\n",
       "  <tbody>\n",
       "    <tr>\n",
       "      <th>0</th>\n",
       "      <td>5163.0</td>\n",
       "      <td>57669</td>\n",
       "      <td>4.0</td>\n",
       "      <td>In Bruges (2008)</td>\n",
       "      <td>Comedy|Crime|Drama|Thriller</td>\n",
       "      <td>0</td>\n",
       "      <td>0</td>\n",
       "      <td>0</td>\n",
       "      <td>0</td>\n",
       "      <td>0</td>\n",
       "      <td>...</td>\n",
       "      <td>0</td>\n",
       "      <td>0</td>\n",
       "      <td>0</td>\n",
       "      <td>0</td>\n",
       "      <td>0</td>\n",
       "      <td>0</td>\n",
       "      <td>0</td>\n",
       "      <td>0</td>\n",
       "      <td>0</td>\n",
       "      <td>0</td>\n",
       "    </tr>\n",
       "    <tr>\n",
       "      <th>1</th>\n",
       "      <td>87388.0</td>\n",
       "      <td>57669</td>\n",
       "      <td>3.5</td>\n",
       "      <td>In Bruges (2008)</td>\n",
       "      <td>Comedy|Crime|Drama|Thriller</td>\n",
       "      <td>0</td>\n",
       "      <td>0</td>\n",
       "      <td>0</td>\n",
       "      <td>0</td>\n",
       "      <td>0</td>\n",
       "      <td>...</td>\n",
       "      <td>0</td>\n",
       "      <td>0</td>\n",
       "      <td>0</td>\n",
       "      <td>0</td>\n",
       "      <td>0</td>\n",
       "      <td>0</td>\n",
       "      <td>0</td>\n",
       "      <td>0</td>\n",
       "      <td>0</td>\n",
       "      <td>0</td>\n",
       "    </tr>\n",
       "  </tbody>\n",
       "</table>\n",
       "<p>2 rows × 25 columns</p>\n",
       "</div>"
      ],
      "text/plain": [
       "    userId  movieId  rating             title                       genres  \\\n",
       "0   5163.0    57669     4.0  In Bruges (2008)  Comedy|Crime|Drama|Thriller   \n",
       "1  87388.0    57669     3.5  In Bruges (2008)  Comedy|Crime|Drama|Thriller   \n",
       "\n",
       "   Comedy  Action  Adventure  Drama  Animation  ...  Mystery  Sci-Fi  \\\n",
       "0       0       0          0      0          0  ...        0       0   \n",
       "1       0       0          0      0          0  ...        0       0   \n",
       "\n",
       "   Documentary  Musical  Western  Romance  Film-Noir  (no genres listed)  War  \\\n",
       "0            0        0        0        0          0                   0    0   \n",
       "1            0        0        0        0          0                   0    0   \n",
       "\n",
       "   IMAX  \n",
       "0     0  \n",
       "1     0  \n",
       "\n",
       "[2 rows x 25 columns]"
      ]
     },
     "execution_count": 17,
     "metadata": {},
     "output_type": "execute_result"
    }
   ],
   "source": [
    "x = data.genres\n",
    "a = list()\n",
    "for i in x:\n",
    "    abc = i\n",
    "    a.append(abc.split('|'))\n",
    "a = pd.DataFrame(a)   \n",
    "b = a[0].unique()\n",
    "for i in b:\n",
    "    data[i] = 0\n",
    "data.head(2)"
   ]
  },
  {
   "cell_type": "code",
   "execution_count": 18,
   "id": "equivalent-connectivity",
   "metadata": {
    "execution": {
     "iopub.execute_input": "2021-07-03T18:59:41.076119Z",
     "iopub.status.busy": "2021-07-03T18:59:41.070612Z",
     "iopub.status.idle": "2021-07-03T18:59:53.152281Z",
     "shell.execute_reply": "2021-07-03T18:59:53.151837Z",
     "shell.execute_reply.started": "2021-07-03T18:06:59.502882Z"
    },
    "papermill": {
     "duration": 13.433003,
     "end_time": "2021-07-03T18:59:53.152415",
     "exception": false,
     "start_time": "2021-07-03T18:59:39.719412",
     "status": "completed"
    },
    "tags": []
   },
   "outputs": [],
   "source": [
    "x = test.genres\n",
    "a = list()\n",
    "for i in x:\n",
    "    abc = i\n",
    "    a.append(abc.split('|'))\n",
    "a = pd.DataFrame(a)   \n",
    "b = a[0].unique()\n",
    "for i in b:\n",
    "    test[i] = 0"
   ]
  },
  {
   "cell_type": "markdown",
   "id": "developing-courtesy",
   "metadata": {
    "papermill": {
     "duration": 0.027117,
     "end_time": "2021-07-03T18:59:53.207024",
     "exception": false,
     "start_time": "2021-07-03T18:59:53.179907",
     "status": "completed"
    },
    "tags": []
   },
   "source": [
    "we assign 1 to all the columns which are present in the Genres\n"
   ]
  },
  {
   "cell_type": "code",
   "execution_count": 19,
   "id": "above-maximum",
   "metadata": {
    "execution": {
     "iopub.execute_input": "2021-07-03T18:59:53.606326Z",
     "iopub.status.busy": "2021-07-03T18:59:53.605141Z",
     "iopub.status.idle": "2021-07-03T19:01:05.656478Z",
     "shell.execute_reply": "2021-07-03T19:01:05.656932Z",
     "shell.execute_reply.started": "2021-07-03T18:07:26.636672Z"
    },
    "papermill": {
     "duration": 72.422908,
     "end_time": "2021-07-03T19:01:05.657103",
     "exception": false,
     "start_time": "2021-07-03T18:59:53.234195",
     "status": "completed"
    },
    "tags": []
   },
   "outputs": [
    {
     "data": {
      "text/html": [
       "<div>\n",
       "<style scoped>\n",
       "    .dataframe tbody tr th:only-of-type {\n",
       "        vertical-align: middle;\n",
       "    }\n",
       "\n",
       "    .dataframe tbody tr th {\n",
       "        vertical-align: top;\n",
       "    }\n",
       "\n",
       "    .dataframe thead th {\n",
       "        text-align: right;\n",
       "    }\n",
       "</style>\n",
       "<table border=\"1\" class=\"dataframe\">\n",
       "  <thead>\n",
       "    <tr style=\"text-align: right;\">\n",
       "      <th></th>\n",
       "      <th>userId</th>\n",
       "      <th>movieId</th>\n",
       "      <th>rating</th>\n",
       "      <th>title</th>\n",
       "      <th>genres</th>\n",
       "      <th>Comedy</th>\n",
       "      <th>Action</th>\n",
       "      <th>Adventure</th>\n",
       "      <th>Drama</th>\n",
       "      <th>Animation</th>\n",
       "      <th>...</th>\n",
       "      <th>Mystery</th>\n",
       "      <th>Sci-Fi</th>\n",
       "      <th>Documentary</th>\n",
       "      <th>Musical</th>\n",
       "      <th>Western</th>\n",
       "      <th>Romance</th>\n",
       "      <th>Film-Noir</th>\n",
       "      <th>(no genres listed)</th>\n",
       "      <th>War</th>\n",
       "      <th>IMAX</th>\n",
       "    </tr>\n",
       "  </thead>\n",
       "  <tbody>\n",
       "    <tr>\n",
       "      <th>0</th>\n",
       "      <td>5163.0</td>\n",
       "      <td>57669</td>\n",
       "      <td>4.0</td>\n",
       "      <td>In Bruges (2008)</td>\n",
       "      <td>Comedy|Crime|Drama|Thriller</td>\n",
       "      <td>1</td>\n",
       "      <td>0</td>\n",
       "      <td>0</td>\n",
       "      <td>1</td>\n",
       "      <td>0</td>\n",
       "      <td>...</td>\n",
       "      <td>0</td>\n",
       "      <td>0</td>\n",
       "      <td>0</td>\n",
       "      <td>0</td>\n",
       "      <td>0</td>\n",
       "      <td>0</td>\n",
       "      <td>0</td>\n",
       "      <td>0</td>\n",
       "      <td>0</td>\n",
       "      <td>0</td>\n",
       "    </tr>\n",
       "    <tr>\n",
       "      <th>1</th>\n",
       "      <td>87388.0</td>\n",
       "      <td>57669</td>\n",
       "      <td>3.5</td>\n",
       "      <td>In Bruges (2008)</td>\n",
       "      <td>Comedy|Crime|Drama|Thriller</td>\n",
       "      <td>1</td>\n",
       "      <td>0</td>\n",
       "      <td>0</td>\n",
       "      <td>1</td>\n",
       "      <td>0</td>\n",
       "      <td>...</td>\n",
       "      <td>0</td>\n",
       "      <td>0</td>\n",
       "      <td>0</td>\n",
       "      <td>0</td>\n",
       "      <td>0</td>\n",
       "      <td>0</td>\n",
       "      <td>0</td>\n",
       "      <td>0</td>\n",
       "      <td>0</td>\n",
       "      <td>0</td>\n",
       "    </tr>\n",
       "  </tbody>\n",
       "</table>\n",
       "<p>2 rows × 25 columns</p>\n",
       "</div>"
      ],
      "text/plain": [
       "    userId  movieId  rating             title                       genres  \\\n",
       "0   5163.0    57669     4.0  In Bruges (2008)  Comedy|Crime|Drama|Thriller   \n",
       "1  87388.0    57669     3.5  In Bruges (2008)  Comedy|Crime|Drama|Thriller   \n",
       "\n",
       "   Comedy  Action  Adventure  Drama  Animation  ...  Mystery  Sci-Fi  \\\n",
       "0       1       0          0      1          0  ...        0       0   \n",
       "1       1       0          0      1          0  ...        0       0   \n",
       "\n",
       "   Documentary  Musical  Western  Romance  Film-Noir  (no genres listed)  War  \\\n",
       "0            0        0        0        0          0                   0    0   \n",
       "1            0        0        0        0          0                   0    0   \n",
       "\n",
       "   IMAX  \n",
       "0     0  \n",
       "1     0  \n",
       "\n",
       "[2 rows x 25 columns]"
      ]
     },
     "execution_count": 19,
     "metadata": {},
     "output_type": "execute_result"
    }
   ],
   "source": [
    "for i in b:\n",
    "    data.loc[data['genres'].str.contains(i), i] = 1\n",
    "data.head(2)"
   ]
  },
  {
   "cell_type": "code",
   "execution_count": 20,
   "id": "packed-pharmacology",
   "metadata": {
    "execution": {
     "iopub.execute_input": "2021-07-03T19:01:05.886738Z",
     "iopub.status.busy": "2021-07-03T19:01:05.886084Z",
     "iopub.status.idle": "2021-07-03T19:01:40.708621Z",
     "shell.execute_reply": "2021-07-03T19:01:40.708068Z",
     "shell.execute_reply.started": "2021-07-03T18:08:57.359159Z"
    },
    "papermill": {
     "duration": 35.024091,
     "end_time": "2021-07-03T19:01:40.708755",
     "exception": false,
     "start_time": "2021-07-03T19:01:05.684664",
     "status": "completed"
    },
    "tags": []
   },
   "outputs": [],
   "source": [
    "for i in b:\n",
    "    test.loc[test['genres'].str.contains(i), i] = 1"
   ]
  },
  {
   "cell_type": "markdown",
   "id": "brazilian-adobe",
   "metadata": {
    "papermill": {
     "duration": 0.027304,
     "end_time": "2021-07-03T19:01:40.764046",
     "exception": false,
     "start_time": "2021-07-03T19:01:40.736742",
     "status": "completed"
    },
    "tags": []
   },
   "source": [
    "Now there is no use of genre \n",
    "Since we have movie id so there is no need for movie names as well"
   ]
  },
  {
   "cell_type": "code",
   "execution_count": 21,
   "id": "distinct-commerce",
   "metadata": {
    "execution": {
     "iopub.execute_input": "2021-07-03T19:01:40.824572Z",
     "iopub.status.busy": "2021-07-03T19:01:40.824004Z",
     "iopub.status.idle": "2021-07-03T19:01:43.842238Z",
     "shell.execute_reply": "2021-07-03T19:01:43.842638Z",
     "shell.execute_reply.started": "2021-07-03T18:09:41.898625Z"
    },
    "papermill": {
     "duration": 3.050951,
     "end_time": "2021-07-03T19:01:43.842798",
     "exception": false,
     "start_time": "2021-07-03T19:01:40.791847",
     "status": "completed"
    },
    "tags": []
   },
   "outputs": [
    {
     "data": {
      "text/html": [
       "<div>\n",
       "<style scoped>\n",
       "    .dataframe tbody tr th:only-of-type {\n",
       "        vertical-align: middle;\n",
       "    }\n",
       "\n",
       "    .dataframe tbody tr th {\n",
       "        vertical-align: top;\n",
       "    }\n",
       "\n",
       "    .dataframe thead th {\n",
       "        text-align: right;\n",
       "    }\n",
       "</style>\n",
       "<table border=\"1\" class=\"dataframe\">\n",
       "  <thead>\n",
       "    <tr style=\"text-align: right;\">\n",
       "      <th></th>\n",
       "      <th>userId</th>\n",
       "      <th>movieId</th>\n",
       "      <th>rating</th>\n",
       "      <th>Comedy</th>\n",
       "      <th>Action</th>\n",
       "      <th>Adventure</th>\n",
       "      <th>Drama</th>\n",
       "      <th>Animation</th>\n",
       "      <th>Horror</th>\n",
       "      <th>Fantasy</th>\n",
       "      <th>...</th>\n",
       "      <th>Mystery</th>\n",
       "      <th>Sci-Fi</th>\n",
       "      <th>Documentary</th>\n",
       "      <th>Musical</th>\n",
       "      <th>Western</th>\n",
       "      <th>Romance</th>\n",
       "      <th>Film-Noir</th>\n",
       "      <th>(no genres listed)</th>\n",
       "      <th>War</th>\n",
       "      <th>IMAX</th>\n",
       "    </tr>\n",
       "  </thead>\n",
       "  <tbody>\n",
       "    <tr>\n",
       "      <th>0</th>\n",
       "      <td>5163.0</td>\n",
       "      <td>57669</td>\n",
       "      <td>4.0</td>\n",
       "      <td>1</td>\n",
       "      <td>0</td>\n",
       "      <td>0</td>\n",
       "      <td>1</td>\n",
       "      <td>0</td>\n",
       "      <td>0</td>\n",
       "      <td>0</td>\n",
       "      <td>...</td>\n",
       "      <td>0</td>\n",
       "      <td>0</td>\n",
       "      <td>0</td>\n",
       "      <td>0</td>\n",
       "      <td>0</td>\n",
       "      <td>0</td>\n",
       "      <td>0</td>\n",
       "      <td>0</td>\n",
       "      <td>0</td>\n",
       "      <td>0</td>\n",
       "    </tr>\n",
       "    <tr>\n",
       "      <th>1</th>\n",
       "      <td>87388.0</td>\n",
       "      <td>57669</td>\n",
       "      <td>3.5</td>\n",
       "      <td>1</td>\n",
       "      <td>0</td>\n",
       "      <td>0</td>\n",
       "      <td>1</td>\n",
       "      <td>0</td>\n",
       "      <td>0</td>\n",
       "      <td>0</td>\n",
       "      <td>...</td>\n",
       "      <td>0</td>\n",
       "      <td>0</td>\n",
       "      <td>0</td>\n",
       "      <td>0</td>\n",
       "      <td>0</td>\n",
       "      <td>0</td>\n",
       "      <td>0</td>\n",
       "      <td>0</td>\n",
       "      <td>0</td>\n",
       "      <td>0</td>\n",
       "    </tr>\n",
       "    <tr>\n",
       "      <th>2</th>\n",
       "      <td>137050.0</td>\n",
       "      <td>57669</td>\n",
       "      <td>4.0</td>\n",
       "      <td>1</td>\n",
       "      <td>0</td>\n",
       "      <td>0</td>\n",
       "      <td>1</td>\n",
       "      <td>0</td>\n",
       "      <td>0</td>\n",
       "      <td>0</td>\n",
       "      <td>...</td>\n",
       "      <td>0</td>\n",
       "      <td>0</td>\n",
       "      <td>0</td>\n",
       "      <td>0</td>\n",
       "      <td>0</td>\n",
       "      <td>0</td>\n",
       "      <td>0</td>\n",
       "      <td>0</td>\n",
       "      <td>0</td>\n",
       "      <td>0</td>\n",
       "    </tr>\n",
       "    <tr>\n",
       "      <th>3</th>\n",
       "      <td>120490.0</td>\n",
       "      <td>57669</td>\n",
       "      <td>4.5</td>\n",
       "      <td>1</td>\n",
       "      <td>0</td>\n",
       "      <td>0</td>\n",
       "      <td>1</td>\n",
       "      <td>0</td>\n",
       "      <td>0</td>\n",
       "      <td>0</td>\n",
       "      <td>...</td>\n",
       "      <td>0</td>\n",
       "      <td>0</td>\n",
       "      <td>0</td>\n",
       "      <td>0</td>\n",
       "      <td>0</td>\n",
       "      <td>0</td>\n",
       "      <td>0</td>\n",
       "      <td>0</td>\n",
       "      <td>0</td>\n",
       "      <td>0</td>\n",
       "    </tr>\n",
       "    <tr>\n",
       "      <th>4</th>\n",
       "      <td>50616.0</td>\n",
       "      <td>57669</td>\n",
       "      <td>4.5</td>\n",
       "      <td>1</td>\n",
       "      <td>0</td>\n",
       "      <td>0</td>\n",
       "      <td>1</td>\n",
       "      <td>0</td>\n",
       "      <td>0</td>\n",
       "      <td>0</td>\n",
       "      <td>...</td>\n",
       "      <td>0</td>\n",
       "      <td>0</td>\n",
       "      <td>0</td>\n",
       "      <td>0</td>\n",
       "      <td>0</td>\n",
       "      <td>0</td>\n",
       "      <td>0</td>\n",
       "      <td>0</td>\n",
       "      <td>0</td>\n",
       "      <td>0</td>\n",
       "    </tr>\n",
       "  </tbody>\n",
       "</table>\n",
       "<p>5 rows × 23 columns</p>\n",
       "</div>"
      ],
      "text/plain": [
       "     userId  movieId  rating  Comedy  Action  Adventure  Drama  Animation  \\\n",
       "0    5163.0    57669     4.0       1       0          0      1          0   \n",
       "1   87388.0    57669     3.5       1       0          0      1          0   \n",
       "2  137050.0    57669     4.0       1       0          0      1          0   \n",
       "3  120490.0    57669     4.5       1       0          0      1          0   \n",
       "4   50616.0    57669     4.5       1       0          0      1          0   \n",
       "\n",
       "   Horror  Fantasy  ...  Mystery  Sci-Fi  Documentary  Musical  Western  \\\n",
       "0       0        0  ...        0       0            0        0        0   \n",
       "1       0        0  ...        0       0            0        0        0   \n",
       "2       0        0  ...        0       0            0        0        0   \n",
       "3       0        0  ...        0       0            0        0        0   \n",
       "4       0        0  ...        0       0            0        0        0   \n",
       "\n",
       "   Romance  Film-Noir  (no genres listed)  War  IMAX  \n",
       "0        0          0                   0    0     0  \n",
       "1        0          0                   0    0     0  \n",
       "2        0          0                   0    0     0  \n",
       "3        0          0                   0    0     0  \n",
       "4        0          0                   0    0     0  \n",
       "\n",
       "[5 rows x 23 columns]"
      ]
     },
     "execution_count": 21,
     "metadata": {},
     "output_type": "execute_result"
    }
   ],
   "source": [
    "data = data.drop(['genres','title'],axis =1)\n",
    "test = test.drop(['genres','title'],axis =1)\n",
    "data.head()"
   ]
  },
  {
   "cell_type": "markdown",
   "id": "sensitive-adolescent",
   "metadata": {
    "papermill": {
     "duration": 0.02836,
     "end_time": "2021-07-03T19:01:43.899892",
     "exception": false,
     "start_time": "2021-07-03T19:01:43.871532",
     "status": "completed"
    },
    "tags": []
   },
   "source": [
    "check if merging did not create nulls"
   ]
  },
  {
   "cell_type": "code",
   "execution_count": 22,
   "id": "expanded-gabriel",
   "metadata": {
    "execution": {
     "iopub.execute_input": "2021-07-03T19:01:43.959026Z",
     "iopub.status.busy": "2021-07-03T19:01:43.958426Z",
     "iopub.status.idle": "2021-07-03T19:01:44.269113Z",
     "shell.execute_reply": "2021-07-03T19:01:44.268665Z",
     "shell.execute_reply.started": "2021-07-03T18:09:58.193436Z"
    },
    "papermill": {
     "duration": 0.341135,
     "end_time": "2021-07-03T19:01:44.269245",
     "exception": false,
     "start_time": "2021-07-03T19:01:43.928110",
     "status": "completed"
    },
    "tags": []
   },
   "outputs": [
    {
     "data": {
      "text/plain": [
       "userId                14210\n",
       "movieId                   0\n",
       "rating                14210\n",
       "Comedy                    0\n",
       "Action                    0\n",
       "Adventure                 0\n",
       "Drama                     0\n",
       "Animation                 0\n",
       "Horror                    0\n",
       "Fantasy                   0\n",
       "Thriller                  0\n",
       "Children                  0\n",
       "Crime                     0\n",
       "Mystery                   0\n",
       "Sci-Fi                    0\n",
       "Documentary               0\n",
       "Musical                   0\n",
       "Western                   0\n",
       "Romance                   0\n",
       "Film-Noir                 0\n",
       "(no genres listed)        0\n",
       "War                       0\n",
       "IMAX                      0\n",
       "dtype: int64"
      ]
     },
     "execution_count": 22,
     "metadata": {},
     "output_type": "execute_result"
    }
   ],
   "source": [
    "data.isnull().sum()"
   ]
  },
  {
   "cell_type": "code",
   "execution_count": 23,
   "id": "quick-coupon",
   "metadata": {
    "execution": {
     "iopub.execute_input": "2021-07-03T19:01:44.330210Z",
     "iopub.status.busy": "2021-07-03T19:01:44.329682Z",
     "iopub.status.idle": "2021-07-03T19:01:44.477394Z",
     "shell.execute_reply": "2021-07-03T19:01:44.477775Z",
     "shell.execute_reply.started": "2021-07-03T18:10:53.275103Z"
    },
    "papermill": {
     "duration": 0.180305,
     "end_time": "2021-07-03T19:01:44.477933",
     "exception": false,
     "start_time": "2021-07-03T19:01:44.297628",
     "status": "completed"
    },
    "tags": []
   },
   "outputs": [
    {
     "data": {
      "text/plain": [
       "userId                22780\n",
       "movieId                   0\n",
       "Adventure                 0\n",
       "Drama                     0\n",
       "Comedy                    0\n",
       "Action                    0\n",
       "Children                  0\n",
       "Crime                     0\n",
       "Horror                    0\n",
       "Documentary               0\n",
       "Animation                 0\n",
       "Sci-Fi                    0\n",
       "Fantasy                   0\n",
       "Mystery                   0\n",
       "Thriller                  0\n",
       "Western                   0\n",
       "Romance                   0\n",
       "Film-Noir                 0\n",
       "Musical                   0\n",
       "(no genres listed)        0\n",
       "War                       0\n",
       "IMAX                      0\n",
       "dtype: int64"
      ]
     },
     "execution_count": 23,
     "metadata": {},
     "output_type": "execute_result"
    }
   ],
   "source": [
    "test.isnull().sum()"
   ]
  },
  {
   "cell_type": "markdown",
   "id": "medium-omaha",
   "metadata": {
    "papermill": {
     "duration": 0.028581,
     "end_time": "2021-07-03T19:01:44.535048",
     "exception": false,
     "start_time": "2021-07-03T19:01:44.506467",
     "status": "completed"
    },
    "tags": []
   },
   "source": [
    "Since we see it created some, we drop them from both the training and testing data sets"
   ]
  },
  {
   "cell_type": "code",
   "execution_count": 24,
   "id": "statewide-winner",
   "metadata": {
    "execution": {
     "iopub.execute_input": "2021-07-03T19:01:44.597082Z",
     "iopub.status.busy": "2021-07-03T19:01:44.596442Z",
     "iopub.status.idle": "2021-07-03T19:01:46.964287Z",
     "shell.execute_reply": "2021-07-03T19:01:46.964692Z",
     "shell.execute_reply.started": "2021-07-03T18:12:47.767832Z"
    },
    "papermill": {
     "duration": 2.401133,
     "end_time": "2021-07-03T19:01:46.964860",
     "exception": false,
     "start_time": "2021-07-03T19:01:44.563727",
     "status": "completed"
    },
    "tags": []
   },
   "outputs": [],
   "source": [
    "#WE simply drop the null values coz the are not treatable\n",
    "data.dropna(inplace= True )\n",
    "test.dropna(inplace= True )"
   ]
  },
  {
   "cell_type": "code",
   "execution_count": 25,
   "id": "touched-patrick",
   "metadata": {
    "execution": {
     "iopub.execute_input": "2021-07-03T19:01:47.026014Z",
     "iopub.status.busy": "2021-07-03T19:01:47.025298Z",
     "iopub.status.idle": "2021-07-03T19:01:47.334246Z",
     "shell.execute_reply": "2021-07-03T19:01:47.333791Z",
     "shell.execute_reply.started": "2021-07-03T18:14:05.172529Z"
    },
    "papermill": {
     "duration": 0.34097,
     "end_time": "2021-07-03T19:01:47.334383",
     "exception": false,
     "start_time": "2021-07-03T19:01:46.993413",
     "status": "completed"
    },
    "tags": []
   },
   "outputs": [
    {
     "data": {
      "text/plain": [
       "userId                0\n",
       "movieId               0\n",
       "rating                0\n",
       "Comedy                0\n",
       "Action                0\n",
       "Adventure             0\n",
       "Drama                 0\n",
       "Animation             0\n",
       "Horror                0\n",
       "Fantasy               0\n",
       "Thriller              0\n",
       "Children              0\n",
       "Crime                 0\n",
       "Mystery               0\n",
       "Sci-Fi                0\n",
       "Documentary           0\n",
       "Musical               0\n",
       "Western               0\n",
       "Romance               0\n",
       "Film-Noir             0\n",
       "(no genres listed)    0\n",
       "War                   0\n",
       "IMAX                  0\n",
       "dtype: int64"
      ]
     },
     "execution_count": 25,
     "metadata": {},
     "output_type": "execute_result"
    }
   ],
   "source": [
    "data.isnull().sum()"
   ]
  },
  {
   "cell_type": "code",
   "execution_count": 26,
   "id": "minute-distributor",
   "metadata": {
    "execution": {
     "iopub.execute_input": "2021-07-03T19:01:47.399392Z",
     "iopub.status.busy": "2021-07-03T19:01:47.398689Z",
     "iopub.status.idle": "2021-07-03T19:01:47.402412Z",
     "shell.execute_reply": "2021-07-03T19:01:47.401905Z",
     "shell.execute_reply.started": "2021-07-03T18:14:48.390572Z"
    },
    "papermill": {
     "duration": 0.038198,
     "end_time": "2021-07-03T19:01:47.402534",
     "exception": false,
     "start_time": "2021-07-03T19:01:47.364336",
     "status": "completed"
    },
    "tags": []
   },
   "outputs": [
    {
     "data": {
      "text/plain": [
       "(10000038, 23)"
      ]
     },
     "execution_count": 26,
     "metadata": {},
     "output_type": "execute_result"
    }
   ],
   "source": [
    "data.shape"
   ]
  },
  {
   "cell_type": "markdown",
   "id": "threatened-billion",
   "metadata": {
    "papermill": {
     "duration": 0.028993,
     "end_time": "2021-07-03T19:01:47.461023",
     "exception": false,
     "start_time": "2021-07-03T19:01:47.432030",
     "status": "completed"
    },
    "tags": []
   },
   "source": [
    "## Modelling phase"
   ]
  },
  {
   "cell_type": "code",
   "execution_count": null,
   "id": "exclusive-madagascar",
   "metadata": {
    "papermill": {
     "duration": 0.029079,
     "end_time": "2021-07-03T19:01:47.519196",
     "exception": false,
     "start_time": "2021-07-03T19:01:47.490117",
     "status": "completed"
    },
    "tags": []
   },
   "outputs": [],
   "source": []
  },
  {
   "cell_type": "markdown",
   "id": "incident-respondent",
   "metadata": {
    "papermill": {
     "duration": 0.029737,
     "end_time": "2021-07-03T19:01:47.579246",
     "exception": false,
     "start_time": "2021-07-03T19:01:47.549509",
     "status": "completed"
    },
    "tags": []
   },
   "source": [
    "# Generate your outputs here"
   ]
  },
  {
   "cell_type": "markdown",
   "id": "sensitive-artwork",
   "metadata": {
    "papermill": {
     "duration": 0.029504,
     "end_time": "2021-07-03T19:01:47.638665",
     "exception": false,
     "start_time": "2021-07-03T19:01:47.609161",
     "status": "completed"
    },
    "tags": []
   },
   "source": [
    "Prepare Submission File\n",
    "We make submissions in CSV files. Your submissions usually have two columns: an ID column and a prediction column. The ID field comes from the test data (keeping whatever name the ID field had in that data, which for the data is the string 'Id'). The prediction column will use the name of the target field.\n",
    "\n",
    "We will create a DataFrame with this data, and then use the dataframe's to_csv method to write our submission file. Explicitly include the argument index=False to prevent pandas from adding another column in our csv file."
   ]
  },
  {
   "cell_type": "code",
   "execution_count": 27,
   "id": "temporal-steps",
   "metadata": {
    "execution": {
     "iopub.execute_input": "2021-07-03T19:01:47.702537Z",
     "iopub.status.busy": "2021-07-03T19:01:47.702000Z",
     "iopub.status.idle": "2021-07-03T19:01:47.704943Z",
     "shell.execute_reply": "2021-07-03T19:01:47.704526Z"
    },
    "papermill": {
     "duration": 0.036112,
     "end_time": "2021-07-03T19:01:47.705060",
     "exception": false,
     "start_time": "2021-07-03T19:01:47.668948",
     "status": "completed"
    },
    "tags": []
   },
   "outputs": [],
   "source": [
    "# df['c'] = df.apply(lambda row: row.a + row.b, axis=1)\n",
    "## my_submission = pd.DataFrame({'id': test.Id, 'rating': test.ratings})\n",
    "# you could use any filename. We choose submission here\n",
    "## my_submission.to_csv('submission.csv', index=False)"
   ]
  },
  {
   "cell_type": "markdown",
   "id": "composed-absolute",
   "metadata": {
    "papermill": {
     "duration": 0.028756,
     "end_time": "2021-07-03T19:01:47.763027",
     "exception": false,
     "start_time": "2021-07-03T19:01:47.734271",
     "status": "completed"
    },
    "tags": []
   },
   "source": [
    "\n",
    "### Make Submission\n",
    "Hit the blue Publish button at the top of your notebook screen. It will take some time for your kernel to run. When it has finished your navigation bar at the top of the screen will have a tab for Output. This only shows up if you have written an output file (like we did in the Prepare Submission File step)."
   ]
  },
  {
   "cell_type": "markdown",
   "id": "addressed-annotation",
   "metadata": {
    "papermill": {
     "duration": 0.029201,
     "end_time": "2021-07-03T19:01:47.821422",
     "exception": false,
     "start_time": "2021-07-03T19:01:47.792221",
     "status": "completed"
    },
    "tags": []
   },
   "source": [
    "Example below of how the output would look once published"
   ]
  },
  {
   "cell_type": "code",
   "execution_count": 28,
   "id": "social-library",
   "metadata": {
    "execution": {
     "iopub.execute_input": "2021-07-03T19:01:47.893246Z",
     "iopub.status.busy": "2021-07-03T19:01:47.892693Z",
     "iopub.status.idle": "2021-07-03T19:01:47.896074Z",
     "shell.execute_reply": "2021-07-03T19:01:47.895564Z"
    },
    "papermill": {
     "duration": 0.045619,
     "end_time": "2021-07-03T19:01:47.896206",
     "exception": false,
     "start_time": "2021-07-03T19:01:47.850587",
     "status": "completed"
    },
    "tags": []
   },
   "outputs": [
    {
     "data": {
      "text/html": [
       "<div>\n",
       "<style scoped>\n",
       "    .dataframe tbody tr th:only-of-type {\n",
       "        vertical-align: middle;\n",
       "    }\n",
       "\n",
       "    .dataframe tbody tr th {\n",
       "        vertical-align: top;\n",
       "    }\n",
       "\n",
       "    .dataframe thead th {\n",
       "        text-align: right;\n",
       "    }\n",
       "</style>\n",
       "<table border=\"1\" class=\"dataframe\">\n",
       "  <thead>\n",
       "    <tr style=\"text-align: right;\">\n",
       "      <th></th>\n",
       "      <th>Name</th>\n",
       "      <th>Age</th>\n",
       "    </tr>\n",
       "  </thead>\n",
       "  <tbody>\n",
       "    <tr>\n",
       "      <th>0</th>\n",
       "      <td>tom</td>\n",
       "      <td>10</td>\n",
       "    </tr>\n",
       "    <tr>\n",
       "      <th>1</th>\n",
       "      <td>nick</td>\n",
       "      <td>15</td>\n",
       "    </tr>\n",
       "    <tr>\n",
       "      <th>2</th>\n",
       "      <td>juli</td>\n",
       "      <td>14</td>\n",
       "    </tr>\n",
       "  </tbody>\n",
       "</table>\n",
       "</div>"
      ],
      "text/plain": [
       "   Name  Age\n",
       "0   tom   10\n",
       "1  nick   15\n",
       "2  juli   14"
      ]
     },
     "execution_count": 28,
     "metadata": {},
     "output_type": "execute_result"
    }
   ],
   "source": [
    "# initialize list of lists\n",
    "data = [['tom', 10], ['nick', 15], ['juli', 14]]\n",
    "  \n",
    "# Create the pandas DataFrame\n",
    "df = pd.DataFrame(data, columns = ['Name', 'Age'])\n",
    "  \n",
    "# print dataframe.\n",
    "df"
   ]
  },
  {
   "cell_type": "code",
   "execution_count": 29,
   "id": "nervous-beauty",
   "metadata": {
    "execution": {
     "iopub.execute_input": "2021-07-03T19:01:47.959697Z",
     "iopub.status.busy": "2021-07-03T19:01:47.959183Z",
     "iopub.status.idle": "2021-07-03T19:01:47.966556Z",
     "shell.execute_reply": "2021-07-03T19:01:47.966132Z"
    },
    "papermill": {
     "duration": 0.03995,
     "end_time": "2021-07-03T19:01:47.966700",
     "exception": false,
     "start_time": "2021-07-03T19:01:47.926750",
     "status": "completed"
    },
    "tags": []
   },
   "outputs": [],
   "source": [
    "df.to_csv('my_test_output.csv', index = False)"
   ]
  }
 ],
 "metadata": {
  "kernelspec": {
   "display_name": "Python 3",
   "language": "python",
   "name": "python3"
  },
  "language_info": {
   "codemirror_mode": {
    "name": "ipython",
    "version": 3
   },
   "file_extension": ".py",
   "mimetype": "text/x-python",
   "name": "python",
   "nbconvert_exporter": "python",
   "pygments_lexer": "ipython3",
   "version": "3.7.10"
  },
  "papermill": {
   "default_parameters": {},
   "duration": 185.47165,
   "end_time": "2021-07-03T19:01:49.508234",
   "environment_variables": {},
   "exception": null,
   "input_path": "__notebook__.ipynb",
   "output_path": "__notebook__.ipynb",
   "parameters": {},
   "start_time": "2021-07-03T18:58:44.036584",
   "version": "2.3.3"
  }
 },
 "nbformat": 4,
 "nbformat_minor": 5
}
